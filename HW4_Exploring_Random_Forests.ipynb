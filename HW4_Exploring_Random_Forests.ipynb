{
 "cells": [
  {
   "cell_type": "code",
   "execution_count": null,
   "metadata": {
    "id": "Vse0exAHic_R"
   },
   "outputs": [],
   "source": [
    "import numpy as np\n",
    "import matplotlib.pyplot as plt\n",
    "import matplotlib as mpl\n",
    "\n",
    "from sklearn import tree\n",
    "from sklearn.ensemble import BaggingClassifier, RandomForestClassifier, AdaBoostClassifier\n",
    "from sklearn.metrics import precision_recall_fscore_support as prfs\n",
    "\n",
    "import torchvision.datasets as datasets\n",
    "import torchvision.transforms as transforms"
   ]
  },
  {
   "cell_type": "markdown",
   "metadata": {
    "id": "slABZMo_79c8"
   },
   "source": [
    "# Load MNIST Dataset\n",
    "Create two classes (label 0 for digits 0-4 and label 1 for digits 5-9), and get the train and test set."
   ]
  },
  {
   "cell_type": "code",
   "execution_count": null,
   "metadata": {
    "id": "9WqPnJB8rICf"
   },
   "outputs": [],
   "source": [
    "def get_data(n_samples = 10000):\n",
    "  '''\n",
    "  Input: n_samples is the total number of samples processed; both train and test data will have n_samples//2 samples.\n",
    "\n",
    "  Outputs: X_tr, Y_tr are the training images and corresponding (binary) labels; X_te, Y_te are the test images and labels\n",
    "  '''\n",
    "  mnist_tr = datasets.MNIST(root = './data', train = True, download = True, transform = transforms.Compose([\n",
    "                               transforms.ToTensor(), transforms.Normalize((0.1307,), (0.3081,))]))\n",
    "  X_tr = []\n",
    "  Y_tr = []\n",
    "  X_te = []\n",
    "  Y_te = []\n",
    "  \n",
    "  for idx, (im, label) in enumerate(mnist_tr):\n",
    "      if idx == n_samples:\n",
    "        print(f'Converting image {idx}/{len(mnist_tr)}')\n",
    "        break\n",
    "      im_array = np.array(im) \n",
    "      binary_label = 0 if label < 5 else 1\n",
    "\n",
    "      if idx < n_samples//2:\n",
    "        X_tr.append(im_array)\n",
    "        Y_tr.append(binary_label)\n",
    "      else:\n",
    "        X_te.append(im_array)\n",
    "        Y_te.append(binary_label)\n",
    "\n",
    "  X_tr = np.asarray(X_tr)\n",
    "  Y_tr = np.asarray(Y_tr)\n",
    "  X_te = np.asarray(X_te)\n",
    "  Y_te = np.asarray(Y_te)\n",
    "\n",
    "  return X_tr, X_te, Y_tr, Y_te"
   ]
  },
  {
   "cell_type": "markdown",
   "metadata": {
    "id": "oOzdW3R3dPSa"
   },
   "source": [
    "# Train and Test a Tree-based Model"
   ]
  },
  {
   "cell_type": "code",
   "execution_count": null,
   "metadata": {
    "id": "QipOlZQKeBi9"
   },
   "outputs": [],
   "source": [
    "def train_model(X_train, t_train, max_depth = 10, min_samples_leaf = 10, criterion = 'gini', \n",
    "                seed = 60, model_type = 'DT', n_estimators = 50, max_samples = 0.5, max_features = 100):\n",
    "  '''\n",
    "  Inputs: \n",
    "    X_train, t_train: Training samples and labels\n",
    "    max_depth (int): The maximum depth of the decision tree.\n",
    "    min_samples_leaf (int): The minimum number of samples required to be at a leaf node.\n",
    "    criterion (string): The function to measure the quality of a split, \n",
    "                        can be 'gini' for the Gini impurity, 'log_loss' and 'entropy', both for the information gain\n",
    "    seed (int): Controls the randomness of the estimator. \n",
    "    model_type (string): The type of model being used, can be 'DT' for decision tree, \n",
    "                         'RF' for random forest, 'DT_Bagging' for decision tree with bagging and 'AdaBoost' for boosting. \n",
    "    n_estimators (int): The number of decision trees in the forest.\n",
    "    max_samples (int or float): The number of samples to draw from the training set to train each decision tree in the forest.\n",
    "    max_features (int or float): The number of features to consider when looking for the best split. \n",
    "\n",
    "  Output:\n",
    "    model: The model with the specified parameters, trained on the input data.\n",
    "  '''\n",
    "  #Decision Tree\n",
    "  if model_type == 'DT':\n",
    "    model = tree.DecisionTreeClassifier(criterion = criterion,\n",
    "            random_state = seed, max_depth = max_depth, min_samples_leaf = min_samples_leaf)\n",
    "  \n",
    "  #Random Forest\n",
    "  elif model_type == 'RF':\n",
    "    model = RandomForestClassifier(n_estimators = n_estimators, criterion = criterion,\n",
    "                                   max_depth = max_depth, min_samples_leaf = min_samples_leaf, \n",
    "                                   random_state = seed, max_samples = max_samples, max_features = max_features)\n",
    "  \n",
    "  #Decision Tree with Bagging\n",
    "  elif model_type == 'DT_Bagging':\n",
    "    model1 = tree.DecisionTreeClassifier(criterion = criterion,\n",
    "            random_state = seed, max_depth = max_depth, min_samples_leaf = min_samples_leaf)\n",
    "    model = BaggingClassifier(base_estimator = model1, n_estimators = n_estimators, max_samples = max_samples, random_state = seed)\n",
    "  \n",
    "  #Boosting\n",
    "  elif model_type == 'AdaBoost':\n",
    "    model1 = tree.DecisionTreeClassifier(criterion = criterion,\n",
    "            random_state = seed,max_depth = max_depth, min_samples_leaf = min_samples_leaf)\n",
    "    model = AdaBoostClassifier(base_estimator = model1, n_estimators = n_estimators, random_state = seed)\n",
    "\n",
    "  model = model.fit(X_train, t_train)\n",
    "  \n",
    "  return model\n",
    "\n",
    "\n",
    "def test_model(X_test, t_test, model, print_flag = False):\n",
    "  '''\n",
    "  Inputs: \n",
    "    X_test, t_test: Test samples and labels\n",
    "    model: A trained model.\n",
    "    print_flag: If True, the test accuracy is printed.\n",
    "\n",
    "  Output:\n",
    "    acc: Accuracy of the given model on the test data.\n",
    "  '''\n",
    "  acc = model.score(X_test, t_test)\n",
    "  \n",
    "  if print_flag:\n",
    "    print(\"Accuracy is: \", acc)\n",
    "\n",
    "  return acc\n"
   ]
  },
  {
   "cell_type": "markdown",
   "metadata": {
    "id": "hYv_C1ltlr__"
   },
   "source": [
    "# Plotting Train and Test Accuracy for different Parameter Values "
   ]
  },
  {
   "cell_type": "code",
   "execution_count": null,
   "metadata": {
    "id": "PCcfq-IXmMjU"
   },
   "outputs": [],
   "source": [
    "def plot_acc(acc_tr, acc_te, par_val, par_name, ymin = 0.75):\n",
    "  '''\n",
    "  Inputs: \n",
    "    acc_tr: Set of training accuracies (for different parameter values)\n",
    "    acc_te: Set of test accuracies\n",
    "    par_val: Set of parameter values\n",
    "    par_name (string): Name of the parameter\n",
    "    ymin: minimum value on the y-axis for the plot\n",
    "\n",
    "  Function: Generates a single plot with the train and test accuracies for different parameter values \n",
    "  '''\n",
    "  fig, ax = plt.subplots()\n",
    "\n",
    "  ax.plot(par_val, acc_tr, color = 'red', label = 'train')\n",
    "  ax.plot(par_val, acc_te, color = 'blue', label = 'test')\n",
    "\n",
    "  ax.legend()\n",
    "  ax.set_ylim(ymin, 1.0)\n",
    "  ax.set(xlabel = par_name, ylabel = 'Accuracy')\n",
    "  ax.set_title(('Accuracy for different values of ' + par_name))\n",
    "\n",
    "  fig.savefig('Accuracy_' + par_name + '_' + model_type + '_' + str(n_samples) + '.png')\n",
    "\n",
    "  plt.show()"
   ]
  },
  {
   "cell_type": "code",
   "execution_count": null,
   "metadata": {
    "id": "4Iz37ZOqtEGF"
   },
   "outputs": [],
   "source": [
    "def get_acc(X_tr, t_tr, X_te, t_te, par_val, par_name, model_type):\n",
    "   '''\n",
    "   Inputs: \n",
    "     X_tr, t_tr: Training samples and labels\n",
    "     X_te, t_te: Test samples and labels\n",
    "     par_val: Set of parameter values\n",
    "     par_name (string): Name of the parameter\n",
    "     model_type (string): The type of model being used, can be 'DT' for decision tree, 'RF' for random forest\n",
    "\n",
    "   Outputs: \n",
    "     acc_tr: Set of training accuracies (for different parameter values)\n",
    "     acc_te: Set of test accuracies\n",
    "   '''\n",
    "   acc_tr = []\n",
    "   acc_te = []\n",
    "   \n",
    "   for i in par_val:\n",
    "\n",
    "     if par_name == 'max_depth':\n",
    "       model = train_model(X_tr, t_tr, model_type = model_type, max_depth = i, min_samples_leaf = 1) \n",
    "\n",
    "     elif par_name == 'min_samples_leaf':\n",
    "       model = train_model(X_tr, t_tr, model_type = model_type, min_samples_leaf = i, max_depth = 10)\n",
    "\n",
    "     elif par_name == 'n_estimators':\n",
    "       model = train_model(X_tr, t_tr, model_type = model_type, n_estimators = i)\n",
    "\n",
    "     elif par_name == 'max_features':\n",
    "       model = train_model(X_tr, t_tr, model_type = model_type, max_features = i)\n",
    "\n",
    "     elif par_name == 'max_samples':\n",
    "       model = train_model(X_tr, t_tr, model_type = model_type, max_samples = i)\n",
    "\n",
    "     ac_tr = test_model(X_tr, t_tr, model)\n",
    "     ac_te = test_model(X_te, t_te, model)\n",
    "\n",
    "     acc_tr.append(ac_tr)\n",
    "     acc_te.append(ac_te)\n",
    "\n",
    "   return np.array(acc_tr), np.array(acc_te)\n"
   ]
  },
  {
   "cell_type": "code",
   "execution_count": null,
   "metadata": {
    "id": "J5oD1orf9Dum"
   },
   "outputs": [],
   "source": [
    "def check_behaviour(X_tr, X_te, y_tr, y_te, vals, name, model_type, ylim = 0.75):\n",
    "  # get train and test accuracies for different parameter values\n",
    "  acc_tr, acc_te = get_acc(X_tr, y_tr, X_te, y_te, par_val=vals, par_name=name, model_type = model_type)\n",
    "  # plot the train and test accuracies \n",
    "  plot_acc(acc_tr, acc_te, vals, name, ylim)\n",
    "  "
   ]
  },
  {
   "cell_type": "markdown",
   "metadata": {
    "id": "ady0ndx59NmH"
   },
   "source": [
    "# Get train and test data"
   ]
  },
  {
   "cell_type": "code",
   "execution_count": null,
   "metadata": {
    "colab": {
     "base_uri": "https://localhost:8080/",
     "height": 449,
     "referenced_widgets": [
      "fe219418128c4b49bdfc477ac3444d2b",
      "7d0836b3f3fb4773b9dd5554b721cfeb",
      "5294469189d2497e9f1498f955df8283",
      "6798000afdc248998f73a41336e9240c",
      "127780424d894403a6a66e2683883612",
      "2fdcba3ebbc54640b281526cf51dcc58",
      "3982dbf8f233486499604fd85d7b15ed",
      "6c6f5b8650434466ad699e6002a4cd25",
      "03eb4758c3064b4880e4fae2f170fc6c",
      "86b9bb59f8cd41a0a444894b622c6ee1",
      "841c86b09ec14ef0915804fcbce0c353",
      "d3a14edb7b4447fcb88d22fb71ce3100",
      "86909dfd1a29421ab5624777ed4cd846",
      "9663d3283650456fa94451b496479ee1",
      "6a52ab6796e242d6a91cdaf0844fa56b",
      "95abc03412224b3e910f0528b0b12192",
      "c8a50eaca885403db61c63362600b2ab",
      "2519066927834a25b55c9dfd7fd0756b",
      "5135ce821c174fe5b8000ccf8d57c876",
      "8bf4c639b7c24764871c1f4900bbb6e1",
      "e23b400085a44ba98c77784d3bb000d9",
      "05b5c81e3edf41f0bc61785770f7ec31",
      "79250a7980ea4654b7bb020b5832b3cf",
      "55a6164c0ad643e2bc6b2846554ec371",
      "38bffdf34e6c488fb0b084c8732b8d5f",
      "254fb7b6e0ef47348472618e6d04c1c7",
      "f97221048b334e098d079932895eb5ce",
      "bc4ba9f48b784420a13426521e03883c",
      "59c2e2993cd145b38e2bf4baaad1e463",
      "114e55978bda4eaaab9147dc668f3693",
      "c2fc806954cc477ca6544c99e4afbca6",
      "a5bbb12108174487bef4735ae58b5b02",
      "87c52ce91d5b4ad097621786ddfb1cef",
      "a6f118ca45d94c98abdc02229fc89fae",
      "4805dd7990314728b6f82875c9c7e860",
      "391b864e85ea43238efff85ff78dd5bb",
      "e70dea59676541028d84c47f12645cb0",
      "06fe8d9a24214417a79cf3a99a302f04",
      "dcdfabb6d4dc42f6a3c0431a6e540124",
      "97d3d9bff9dd4472b6d77d213c770d45",
      "3be095dba6fc448684d7a37327b3cf59",
      "fb34eb5c3d3a4a43bd54fed6e40d30ad",
      "214d19da3a534590bab67acbe3e8ab58",
      "fd2c67a899d444b792d9fe52b4cd861a"
     ]
    },
    "executionInfo": {
     "elapsed": 3075,
     "status": "ok",
     "timestamp": 1668033472901,
     "user": {
      "displayName": "Yusufu Feierdawusi",
      "userId": "02820810224505494977"
     },
     "user_tz": 480
    },
    "id": "bYubedZo9N0h",
    "outputId": "2ef5dbc3-f5c6-48a0-e2aa-6a20fcdfa98a"
   },
   "outputs": [
    {
     "name": "stdout",
     "output_type": "stream",
     "text": [
      "Downloading http://yann.lecun.com/exdb/mnist/train-images-idx3-ubyte.gz\n",
      "Downloading http://yann.lecun.com/exdb/mnist/train-images-idx3-ubyte.gz to ./data/MNIST/raw/train-images-idx3-ubyte.gz\n"
     ]
    },
    {
     "data": {
      "application/vnd.jupyter.widget-view+json": {
       "model_id": "fe219418128c4b49bdfc477ac3444d2b",
       "version_major": 2,
       "version_minor": 0
      },
      "text/plain": [
       "  0%|          | 0/9912422 [00:00<?, ?it/s]"
      ]
     },
     "metadata": {},
     "output_type": "display_data"
    },
    {
     "name": "stdout",
     "output_type": "stream",
     "text": [
      "Extracting ./data/MNIST/raw/train-images-idx3-ubyte.gz to ./data/MNIST/raw\n",
      "\n",
      "Downloading http://yann.lecun.com/exdb/mnist/train-labels-idx1-ubyte.gz\n",
      "Downloading http://yann.lecun.com/exdb/mnist/train-labels-idx1-ubyte.gz to ./data/MNIST/raw/train-labels-idx1-ubyte.gz\n"
     ]
    },
    {
     "data": {
      "application/vnd.jupyter.widget-view+json": {
       "model_id": "d3a14edb7b4447fcb88d22fb71ce3100",
       "version_major": 2,
       "version_minor": 0
      },
      "text/plain": [
       "  0%|          | 0/28881 [00:00<?, ?it/s]"
      ]
     },
     "metadata": {},
     "output_type": "display_data"
    },
    {
     "name": "stdout",
     "output_type": "stream",
     "text": [
      "Extracting ./data/MNIST/raw/train-labels-idx1-ubyte.gz to ./data/MNIST/raw\n",
      "\n",
      "Downloading http://yann.lecun.com/exdb/mnist/t10k-images-idx3-ubyte.gz\n",
      "Downloading http://yann.lecun.com/exdb/mnist/t10k-images-idx3-ubyte.gz to ./data/MNIST/raw/t10k-images-idx3-ubyte.gz\n"
     ]
    },
    {
     "data": {
      "application/vnd.jupyter.widget-view+json": {
       "model_id": "79250a7980ea4654b7bb020b5832b3cf",
       "version_major": 2,
       "version_minor": 0
      },
      "text/plain": [
       "  0%|          | 0/1648877 [00:00<?, ?it/s]"
      ]
     },
     "metadata": {},
     "output_type": "display_data"
    },
    {
     "name": "stdout",
     "output_type": "stream",
     "text": [
      "Extracting ./data/MNIST/raw/t10k-images-idx3-ubyte.gz to ./data/MNIST/raw\n",
      "\n",
      "Downloading http://yann.lecun.com/exdb/mnist/t10k-labels-idx1-ubyte.gz\n",
      "Downloading http://yann.lecun.com/exdb/mnist/t10k-labels-idx1-ubyte.gz to ./data/MNIST/raw/t10k-labels-idx1-ubyte.gz\n"
     ]
    },
    {
     "data": {
      "application/vnd.jupyter.widget-view+json": {
       "model_id": "a6f118ca45d94c98abdc02229fc89fae",
       "version_major": 2,
       "version_minor": 0
      },
      "text/plain": [
       "  0%|          | 0/4542 [00:00<?, ?it/s]"
      ]
     },
     "metadata": {},
     "output_type": "display_data"
    },
    {
     "name": "stdout",
     "output_type": "stream",
     "text": [
      "Extracting ./data/MNIST/raw/t10k-labels-idx1-ubyte.gz to ./data/MNIST/raw\n",
      "\n",
      "Converting image 8000/60000\n"
     ]
    }
   ],
   "source": [
    "# Train and test data with 4000 samples each (Used for Parts 1-5)\n",
    "n_samples = 8000\n",
    "X_tr, X_te, y_tr8, y_te8 = get_data(n_samples = n_samples)\n",
    "\n",
    "#flatten the images into 1D inputs for tree-based methods\n",
    "X_tr8 = X_tr.reshape((n_samples//2, -1)) \n",
    "X_te8 = X_te.reshape((n_samples//2, -1))"
   ]
  },
  {
   "cell_type": "code",
   "execution_count": null,
   "metadata": {
    "colab": {
     "base_uri": "https://localhost:8080/"
    },
    "executionInfo": {
     "elapsed": 598,
     "status": "ok",
     "timestamp": 1668033492651,
     "user": {
      "displayName": "Yusufu Feierdawusi",
      "userId": "02820810224505494977"
     },
     "user_tz": 480
    },
    "id": "MHhJnhoGwPAu",
    "outputId": "c52cb2de-aa88-493c-cb07-de70e66785c6"
   },
   "outputs": [
    {
     "name": "stdout",
     "output_type": "stream",
     "text": [
      "Converting image 2000/60000\n"
     ]
    }
   ],
   "source": [
    "# Train and test data with 1000 samples each (Used for Parts 3-5)\n",
    "n_samples = 2000\n",
    "X_tr, X_te, y_tr2, y_te2 = get_data(n_samples = n_samples)\n",
    "\n",
    "#flatten the images into 1D inputs for tree-based methods\n",
    "X_tr2 = X_tr.reshape((n_samples//2, -1))\n",
    "X_te2 = X_te.reshape((n_samples//2, -1))"
   ]
  },
  {
   "cell_type": "code",
   "execution_count": null,
   "metadata": {
    "colab": {
     "base_uri": "https://localhost:8080/",
     "height": 472
    },
    "executionInfo": {
     "elapsed": 612,
     "status": "ok",
     "timestamp": 1668033499161,
     "user": {
      "displayName": "Yusufu Feierdawusi",
      "userId": "02820810224505494977"
     },
     "user_tz": 480
    },
    "id": "XkT2uaLZMXdu",
    "outputId": "bdf6eb22-cf39-4140-8886-4510bca2c78e"
   },
   "outputs": [
    {
     "data": {
      "image/png": "[encoded data removed]",
      "text/plain": [
       "<Figure size 504x576 with 9 Axes>"
      ]
     },
     "metadata": {},
     "output_type": "display_data"
    }
   ],
   "source": [
    "# plot images of digits from the dataset\n",
    "\n",
    "def plot_dataset_digits(X_tr, y_tr):\n",
    "  fig = plt.figure(figsize=(7, 8))\n",
    "  columns = 3\n",
    "  rows = 3\n",
    "\n",
    "  ax = []\n",
    "\n",
    "  for i in range(columns * rows):\n",
    "    img = X_tr[2*i+1].reshape((28,28))\n",
    "    label = y_tr[2*i+1]\n",
    "    \n",
    "    ax.append(fig.add_subplot(rows, columns, i + 1))\n",
    "    ax[-1].set_title(\"Label: \" + str(label))  \n",
    "    plt.imshow(img, cmap='gray', vmin=np.min(X_tr), vmax=np.max(X_tr))\n",
    "    plt.xticks([])\n",
    "    plt.yticks([])\n",
    "\n",
    "  plt.show()  \n",
    "\n",
    "plot_dataset_digits(X_tr8, y_tr8)"
   ]
  },
  {
   "cell_type": "markdown",
   "metadata": {
    "id": "CLuxqZM9-GB3"
   },
   "source": [
    "# Check the effect of different hyperparameters \n",
    "(Parts 1-5)"
   ]
  },
  {
   "cell_type": "code",
   "execution_count": null,
   "metadata": {
    "colab": {
     "base_uri": "https://localhost:8080/",
     "height": 575
    },
    "executionInfo": {
     "elapsed": 15700,
     "status": "ok",
     "timestamp": 1668033569078,
     "user": {
      "displayName": "Yusufu Feierdawusi",
      "userId": "02820810224505494977"
     },
     "user_tz": 480
    },
    "id": "9v-h7FaarcgB",
    "outputId": "6a7acf5d-ce29-43aa-c2d1-83d159c55970"
   },
   "outputs": [
    {
     "data": {
      "image/png": "[encoded data removed]",
      "text/plain": [
       "<Figure size 432x288 with 1 Axes>"
      ]
     },
     "metadata": {
      "needs_background": "light"
     },
     "output_type": "display_data"
    },
    {
     "data": {
      "image/png": "[encoded data removed]",
      "text/plain": [
       "<Figure size 432x288 with 1 Axes>"
      ]
     },
     "metadata": {
      "needs_background": "light"
     },
     "output_type": "display_data"
    }
   ],
   "source": [
    "# Part 1: Effect of max_depth\n",
    "\n",
    "model_type = 'DT'\n",
    "name = 'max_depth'\n",
    "vals = [1, 3, 5, 10, 15, 20]\n",
    "check_behaviour(X_tr8, X_te8, y_tr8, y_te8, vals, name, model_type, ylim = 0.7)\n",
    "\n",
    "model_type = 'RF'\n",
    "name = 'max_depth'\n",
    "vals = [1, 3, 5, 10, 15, 20]\n",
    "check_behaviour(X_tr8, X_te8, y_tr8, y_te8, vals, name, model_type, ylim = 0.7)\n"
   ]
  },
  {
   "cell_type": "markdown",
   "metadata": {
    "id": "zbm9LzEGjDmk"
   },
   "source": [
    "How do the accuracies and the generalization gap vary with max_depth\n",
    "in these cases? For a particular value of max_depth, how does the generalization gap for the decision tree compare\n",
    "with that of the random forest? Explain your observations.\n",
    "\n",
    "The accuracies of both the decision tree and random forest model are increasing as the max_depth increases. However, the generalization gap for the decision tree expands as the max_depth increases. While the generalization gap for the random forest stays consistent as the max_depth increases. Specifically, if we look at when max_depth = 10.0, the generalization gap for the decision tree is about 0.98-0.85 = 0.13, while the generalization gap for the random forest is about 0.98-0.90 = 0.08. Thus, the generalization gap for the random forest is smaller. \n",
    "\n"
   ]
  },
  {
   "cell_type": "code",
   "execution_count": null,
   "metadata": {
    "colab": {
     "base_uri": "https://localhost:8080/",
     "height": 296
    },
    "executionInfo": {
     "elapsed": 14515,
     "status": "ok",
     "timestamp": 1668035215175,
     "user": {
      "displayName": "Yusufu Feierdawusi",
      "userId": "02820810224505494977"
     },
     "user_tz": 480
    },
    "id": "-is876nuONyS",
    "outputId": "75bf5c12-8e11-42b4-a928-a3df89853c62"
   },
   "outputs": [
    {
     "data": {
      "image/png": "[encoded data removed]",
      "text/plain": [
       "<Figure size 432x288 with 1 Axes>"
      ]
     },
     "metadata": {
      "needs_background": "light"
     },
     "output_type": "display_data"
    }
   ],
   "source": [
    "# Part 2: Effect of n_estimators\n",
    "\n",
    "model_type = 'RF'\n",
    "name = 'n_estimators'\n",
    "vals = [1, 10, 25, 50, 75, 100, 200] \n",
    "check_behaviour(X_tr8, X_te8, y_tr8, y_te8, vals, name, model_type)"
   ]
  },
  {
   "cell_type": "markdown",
   "metadata": {
    "id": "IWL3JQVWpbpw"
   },
   "source": [
    "The next plot shows the train and test accuracy for different values of n_estimators for a random\n",
    "forest. Comment on your observations regarding the accuracies and the generalization gap. What value(s) (range or\n",
    "approximate values are enough) would you prefer to use for this parameter? Give reasons why. Hint: Are there any\n",
    "drawbacks to using very high values of n_estimators?\n",
    "\n",
    "The accuracy of the random forest increases as the n_estimators increase, but only up to about when n_estimators = 50. Then, the accuracies for the rest of n_estimators stayed the same...."
   ]
  },
  {
   "cell_type": "code",
   "execution_count": null,
   "metadata": {
    "colab": {
     "base_uri": "https://localhost:8080/",
     "height": 575
    },
    "executionInfo": {
     "elapsed": 18307,
     "status": "ok",
     "timestamp": 1668035298652,
     "user": {
      "displayName": "Yusufu Feierdawusi",
      "userId": "02820810224505494977"
     },
     "user_tz": 480
    },
    "id": "R6PMc-tSOmpH",
    "outputId": "11234c01-5428-4fb8-8bd4-b22fbb4874f1"
   },
   "outputs": [
    {
     "data": {
      "image/png": "[encoded data removed]",
      "text/plain": [
       "<Figure size 432x288 with 1 Axes>"
      ]
     },
     "metadata": {
      "needs_background": "light"
     },
     "output_type": "display_data"
    },
    {
     "data": {
      "image/png": "[encoded data removed]",
      "text/plain": [
       "<Figure size 432x288 with 1 Axes>"
      ]
     },
     "metadata": {
      "needs_background": "light"
     },
     "output_type": "display_data"
    }
   ],
   "source": [
    "# Part 3: Effect of min_samples_leaf\n",
    "\n",
    "model_type = 'RF'\n",
    "name = 'min_samples_leaf'\n",
    "vals = [1, 2, 4, 6, 8, 10, 20, 30, 40, 50] \n",
    "check_behaviour(X_tr8, X_te8, y_tr8, y_te8, vals, name, model_type)\n",
    "\n",
    "name = 'min_samples_leaf'\n",
    "vals = [1, 2, 4, 6, 8, 10, 20, 30, 40, 50] \n",
    "check_behaviour(X_tr2, X_te2, y_tr2, y_te2, vals, name, model_type)"
   ]
  },
  {
   "cell_type": "markdown",
   "metadata": {
    "id": "nqmYFxV_p-Iz"
   },
   "source": [
    "The next set of plots shows the train and test accuracy for different values of min_samples_leaf for a random forest. Taking into account the behaviours for different training set sizes, explain your observations for very low and very high values of min_samples_leaf. What do you conclude from this trend? What could be the reasons for such a behaviour?\n",
    "\n",
    "In the first plot, the low values of min_samples_leaf produced high accuracies, but as the value inceases, the accuracies goes down. From this plot we can conclude that the less samples required to be a leaf node the higher the accuracy goes. \n",
    "\n",
    "In the second plot, #its still going down, but the test becomes better than training, what does this mean? "
   ]
  },
  {
   "cell_type": "code",
   "execution_count": null,
   "metadata": {
    "colab": {
     "base_uri": "https://localhost:8080/",
     "height": 575
    },
    "executionInfo": {
     "elapsed": 9156,
     "status": "ok",
     "timestamp": 1668035307802,
     "user": {
      "displayName": "Yusufu Feierdawusi",
      "userId": "02820810224505494977"
     },
     "user_tz": 480
    },
    "id": "6Z_FQgdkuIko",
    "outputId": "d0545134-298d-4b35-cca9-7db6eda988c0"
   },
   "outputs": [
    {
     "data": {
      "image/png": "[encoded data removed]",
      "text/plain": [
       "<Figure size 432x288 with 1 Axes>"
      ]
     },
     "metadata": {
      "needs_background": "light"
     },
     "output_type": "display_data"
    },
    {
     "data": {
      "image/png": "[encoded data removed]",
      "text/plain": [
       "<Figure size 432x288 with 1 Axes>"
      ]
     },
     "metadata": {
      "needs_background": "light"
     },
     "output_type": "display_data"
    }
   ],
   "source": [
    "# Part 4: Effect of max_samples\n",
    "\n",
    "model_type = 'RF'\n",
    "name = 'max_samples'\n",
    "vals = [0.1, 0.25, 0.5, 0.75, 1.0] \n",
    "check_behaviour(X_tr8, X_te8, y_tr8, y_te8, vals, name, model_type)\n",
    "\n",
    "name = 'max_samples'\n",
    "vals = [0.1, 0.25, 0.5, 0.75, 1.0] \n",
    "check_behaviour(X_tr2, X_te2, y_tr2, y_te2, vals, name, model_type)"
   ]
  },
  {
   "cell_type": "markdown",
   "metadata": {
    "id": "MWm3pJ5eqEQ4"
   },
   "source": [
    "The next set of plots shows the train and test accuracy for different values of max_samples for a random forest. What do you observe for very low and very high values of max_samples? Would you prefer to use low, intermediate or high values for this parameter in both the cases? Give reasons why. Hint: How does the size of the training set influence the choice of this parameter?\n",
    "\n",
    "In the first plot, when we are using a small percentage of the training samples, the accuracy is lower than using a high percentage or the entire dataset. However, in the second plot, the accuracy starts to go down after around when max_samples = 0.5. Considering both results, I would prefer to use intermediate values for this parameter because when the size of the training set is relaively small and max_samples is large, the model tend to overfit. This is reflected by the increase in generalization gap in the second plot. "
   ]
  },
  {
   "cell_type": "code",
   "execution_count": null,
   "metadata": {
    "colab": {
     "base_uri": "https://localhost:8080/",
     "height": 575
    },
    "executionInfo": {
     "elapsed": 17981,
     "status": "ok",
     "timestamp": 1668035325776,
     "user": {
      "displayName": "Yusufu Feierdawusi",
      "userId": "02820810224505494977"
     },
     "user_tz": 480
    },
    "id": "h6F7A7EHEQE_",
    "outputId": "65e95cad-fa95-41f3-d9f1-6b5e53872b31"
   },
   "outputs": [
    {
     "data": {
      "image/png": "[encoded data removed]",
      "text/plain": [
       "<Figure size 432x288 with 1 Axes>"
      ]
     },
     "metadata": {
      "needs_background": "light"
     },
     "output_type": "display_data"
    },
    {
     "data": {
      "image/png": "[encoded data removed]",
      "text/plain": [
       "<Figure size 432x288 with 1 Axes>"
      ]
     },
     "metadata": {
      "needs_background": "light"
     },
     "output_type": "display_data"
    }
   ],
   "source": [
    "# Part 5: Effect of max_features\n",
    "\n",
    "model_type = 'RF'\n",
    "name = 'max_features'\n",
    "vals = [1, 10, 15, 20, 25, 30, 50, 100, 250, 500] \n",
    "check_behaviour(X_tr8, X_te8, y_tr8, y_te8, vals, name, model_type)\n",
    "\n",
    "name = 'max_features'\n",
    "vals = [1, 10, 15, 20, 25, 30, 50, 100, 250, 500] \n",
    "check_behaviour(X_tr2, X_te2, y_tr2, y_te2, vals, name, model_type)"
   ]
  },
  {
   "cell_type": "markdown",
   "metadata": {
    "id": "oQXGMksrqIAK"
   },
   "source": [
    "The next set of plots shows the train and test accuracy for different values of max_features for a random forest. Comment on your observations regarding the accuracies and the generalization gap for the two training set sizes. What is the best range of values for this parameter in both the cases? Is it similar/different? Explain your observations.\n",
    "\n",
    "For both of the plots, the test accuracy increase with small values of max_features, but then as the value becomes larger, the accuracy goes down. The generailzation gap in the second case is much larger than the first case. This is due to overfitting caused by insufficient training data. The best range of values for this parameter is about 20 to 50 for both the cases. They are similar because... "
   ]
  },
  {
   "cell_type": "markdown",
   "metadata": {
    "id": "hYjnjDG0OgRT"
   },
   "source": [
    "# Visualize Feature Importances\n",
    "\n",
    "(Part 6) Visualize the feature importances of a random forest model trained for the binary classification task on the MNIST dataset. "
   ]
  },
  {
   "cell_type": "code",
   "execution_count": 1,
   "metadata": {
    "colab": {
     "base_uri": "https://localhost:8080/",
     "height": 235
    },
    "executionInfo": {
     "elapsed": 155,
     "status": "error",
     "timestamp": 1668679269125,
     "user": {
      "displayName": "Yusufu Feierdawusi",
      "userId": "02820810224505494977"
     },
     "user_tz": 480
    },
    "id": "bk2nfqKqOfcp",
    "outputId": "f8d383d5-e19b-41d1-c498-20bd66685820"
   },
   "outputs": [
    {
     "ename": "NameError",
     "evalue": "ignored",
     "output_type": "error",
     "traceback": [
      "\u001b[0;31m---------------------------------------------------------------------------\u001b[0m",
      "\u001b[0;31mNameError\u001b[0m                                 Traceback (most recent call last)",
      "\u001b[0;32m<ipython-input-1-2a836291d221>\u001b[0m in \u001b[0;36m<module>\u001b[0;34m\u001b[0m\n\u001b[1;32m     10\u001b[0m \u001b[0;34m\u001b[0m\u001b[0m\n\u001b[1;32m     11\u001b[0m \u001b[0;31m# Train a random forest model for binary classification on MNIST, with a fixed set of parameter values\u001b[0m\u001b[0;34m\u001b[0m\u001b[0;34m\u001b[0m\u001b[0;34m\u001b[0m\u001b[0m\n\u001b[0;32m---> 12\u001b[0;31m \u001b[0mmodel\u001b[0m \u001b[0;34m=\u001b[0m \u001b[0mtrain_model\u001b[0m\u001b[0;34m(\u001b[0m\u001b[0mX_tr8\u001b[0m\u001b[0;34m,\u001b[0m \u001b[0my_tr8\u001b[0m\u001b[0;34m,\u001b[0m \u001b[0mmodel_type\u001b[0m \u001b[0;34m=\u001b[0m \u001b[0;34m'RF'\u001b[0m\u001b[0;34m)\u001b[0m\u001b[0;34m\u001b[0m\u001b[0;34m\u001b[0m\u001b[0m\n\u001b[0m\u001b[1;32m     13\u001b[0m \u001b[0mtest_model\u001b[0m\u001b[0;34m(\u001b[0m\u001b[0mX_tr8\u001b[0m\u001b[0;34m,\u001b[0m \u001b[0my_tr8\u001b[0m\u001b[0;34m,\u001b[0m \u001b[0mmodel\u001b[0m\u001b[0;34m)\u001b[0m\u001b[0;34m\u001b[0m\u001b[0;34m\u001b[0m\u001b[0m\n\u001b[1;32m     14\u001b[0m \u001b[0mtest_model\u001b[0m\u001b[0;34m(\u001b[0m\u001b[0mX_te8\u001b[0m\u001b[0;34m,\u001b[0m \u001b[0my_te8\u001b[0m\u001b[0;34m,\u001b[0m \u001b[0mmodel\u001b[0m\u001b[0;34m)\u001b[0m\u001b[0;34m\u001b[0m\u001b[0;34m\u001b[0m\u001b[0m\n",
      "\u001b[0;31mNameError\u001b[0m: name 'train_model' is not defined"
     ]
    }
   ],
   "source": [
    "# Part 6\n",
    "# Based on https://github.com/probml/pyprobml/blob/master/notebooks/book1/18/rf_feature_importance_mnist.ipynb\n",
    "\n",
    "def plot_digit(data):\n",
    "    image = data.reshape(28, 28)\n",
    "    plt.figure()\n",
    "    plt.imshow(image, cmap = mpl.cm.hot,\n",
    "               interpolation=\"nearest\")\n",
    "    plt.axis(\"off\")\n",
    "\n",
    "# Train a random forest model for binary classification on MNIST, with a fixed set of parameter values\n",
    "model = train_model(X_tr8, y_tr8, model_type = 'RF')\n",
    "test_model(X_tr8, y_tr8, model)\n",
    "test_model(X_te8, y_te8, model)\n",
    "\n",
    "# Plot the feature importances\n",
    "plot_digit(model.feature_importances_)\n",
    "cbar = plt.colorbar(ticks=[model.feature_importances_.min(), model.feature_importances_.max()])\n",
    "cbar.ax.set_yticklabels(['Least important', 'Most important'])\n",
    "plt.savefig(\"rf_feature_importance_mnist.png\", dpi=300)\n",
    "plt.show()"
   ]
  }
 ],
 "metadata": {
  "colab": {
   "provenance": []
  },
  "kernelspec": {
   "display_name": "Python 3 (ipykernel)",
   "language": "python",
   "name": "python3"
  },
  "language_info": {
   "codemirror_mode": {
    "name": "ipython",
    "version": 3
   },
   "file_extension": ".py",
   "mimetype": "text/x-python",
   "name": "python",
   "nbconvert_exporter": "python",
   "pygments_lexer": "ipython3",
   "version": "3.9.7"
  },
  "widgets": {
   "application/vnd.jupyter.widget-state+json": {
    "03eb4758c3064b4880e4fae2f170fc6c": {
     "model_module": "@jupyter-widgets/controls",
     "model_module_version": "1.5.0",
     "model_name": "ProgressStyleModel",
     "state": {
      "_model_module": "@jupyter-widgets/controls",
      "_model_module_version": "1.5.0",
      "_model_name": "ProgressStyleModel",
      "_view_count": null,
      "_view_module": "@jupyter-widgets/base",
      "_view_module_version": "1.2.0",
      "_view_name": "StyleView",
      "bar_color": null,
      "description_width": ""
     }
    },
    "05b5c81e3edf41f0bc61785770f7ec31": {
     "model_module": "@jupyter-widgets/controls",
     "model_module_version": "1.5.0",
     "model_name": "DescriptionStyleModel",
     "state": {
      "_model_module": "@jupyter-widgets/controls",
      "_model_module_version": "1.5.0",
      "_model_name": "DescriptionStyleModel",
      "_view_count": null,
      "_view_module": "@jupyter-widgets/base",
      "_view_module_version": "1.2.0",
      "_view_name": "StyleView",
      "description_width": ""
     }
    },
    "06fe8d9a24214417a79cf3a99a302f04": {
     "model_module": "@jupyter-widgets/base",
     "model_module_version": "1.2.0",
     "model_name": "LayoutModel",
     "state": {
      "_model_module": "@jupyter-widgets/base",
      "_model_module_version": "1.2.0",
      "_model_name": "LayoutModel",
      "_view_count": null,
      "_view_module": "@jupyter-widgets/base",
      "_view_module_version": "1.2.0",
      "_view_name": "LayoutView",
      "align_content": null,
      "align_items": null,
      "align_self": null,
      "border": null,
      "bottom": null,
      "display": null,
      "flex": null,
      "flex_flow": null,
      "grid_area": null,
      "grid_auto_columns": null,
      "grid_auto_flow": null,
      "grid_auto_rows": null,
      "grid_column": null,
      "grid_gap": null,
      "grid_row": null,
      "grid_template_areas": null,
      "grid_template_columns": null,
      "grid_template_rows": null,
      "height": null,
      "justify_content": null,
      "justify_items": null,
      "left": null,
      "margin": null,
      "max_height": null,
      "max_width": null,
      "min_height": null,
      "min_width": null,
      "object_fit": null,
      "object_position": null,
      "order": null,
      "overflow": null,
      "overflow_x": null,
      "overflow_y": null,
      "padding": null,
      "right": null,
      "top": null,
      "visibility": null,
      "width": null
     }
    },
    "114e55978bda4eaaab9147dc668f3693": {
     "model_module": "@jupyter-widgets/base",
     "model_module_version": "1.2.0",
     "model_name": "LayoutModel",
     "state": {
      "_model_module": "@jupyter-widgets/base",
      "_model_module_version": "1.2.0",
      "_model_name": "LayoutModel",
      "_view_count": null,
      "_view_module": "@jupyter-widgets/base",
      "_view_module_version": "1.2.0",
      "_view_name": "LayoutView",
      "align_content": null,
      "align_items": null,
      "align_self": null,
      "border": null,
      "bottom": null,
      "display": null,
      "flex": null,
      "flex_flow": null,
      "grid_area": null,
      "grid_auto_columns": null,
      "grid_auto_flow": null,
      "grid_auto_rows": null,
      "grid_column": null,
      "grid_gap": null,
      "grid_row": null,
      "grid_template_areas": null,
      "grid_template_columns": null,
      "grid_template_rows": null,
      "height": null,
      "justify_content": null,
      "justify_items": null,
      "left": null,
      "margin": null,
      "max_height": null,
      "max_width": null,
      "min_height": null,
      "min_width": null,
      "object_fit": null,
      "object_position": null,
      "order": null,
      "overflow": null,
      "overflow_x": null,
      "overflow_y": null,
      "padding": null,
      "right": null,
      "top": null,
      "visibility": null,
      "width": null
     }
    },
    "127780424d894403a6a66e2683883612": {
     "model_module": "@jupyter-widgets/base",
     "model_module_version": "1.2.0",
     "model_name": "LayoutModel",
     "state": {
      "_model_module": "@jupyter-widgets/base",
      "_model_module_version": "1.2.0",
      "_model_name": "LayoutModel",
      "_view_count": null,
      "_view_module": "@jupyter-widgets/base",
      "_view_module_version": "1.2.0",
      "_view_name": "LayoutView",
      "align_content": null,
      "align_items": null,
      "align_self": null,
      "border": null,
      "bottom": null,
      "display": null,
      "flex": null,
      "flex_flow": null,
      "grid_area": null,
      "grid_auto_columns": null,
      "grid_auto_flow": null,
      "grid_auto_rows": null,
      "grid_column": null,
      "grid_gap": null,
      "grid_row": null,
      "grid_template_areas": null,
      "grid_template_columns": null,
      "grid_template_rows": null,
      "height": null,
      "justify_content": null,
      "justify_items": null,
      "left": null,
      "margin": null,
      "max_height": null,
      "max_width": null,
      "min_height": null,
      "min_width": null,
      "object_fit": null,
      "object_position": null,
      "order": null,
      "overflow": null,
      "overflow_x": null,
      "overflow_y": null,
      "padding": null,
      "right": null,
      "top": null,
      "visibility": null,
      "width": null
     }
    },
    "214d19da3a534590bab67acbe3e8ab58": {
     "model_module": "@jupyter-widgets/base",
     "model_module_version": "1.2.0",
     "model_name": "LayoutModel",
     "state": {
      "_model_module": "@jupyter-widgets/base",
      "_model_module_version": "1.2.0",
      "_model_name": "LayoutModel",
      "_view_count": null,
      "_view_module": "@jupyter-widgets/base",
      "_view_module_version": "1.2.0",
      "_view_name": "LayoutView",
      "align_content": null,
      "align_items": null,
      "align_self": null,
      "border": null,
      "bottom": null,
      "display": null,
      "flex": null,
      "flex_flow": null,
      "grid_area": null,
      "grid_auto_columns": null,
      "grid_auto_flow": null,
      "grid_auto_rows": null,
      "grid_column": null,
      "grid_gap": null,
      "grid_row": null,
      "grid_template_areas": null,
      "grid_template_columns": null,
      "grid_template_rows": null,
      "height": null,
      "justify_content": null,
      "justify_items": null,
      "left": null,
      "margin": null,
      "max_height": null,
      "max_width": null,
      "min_height": null,
      "min_width": null,
      "object_fit": null,
      "object_position": null,
      "order": null,
      "overflow": null,
      "overflow_x": null,
      "overflow_y": null,
      "padding": null,
      "right": null,
      "top": null,
      "visibility": null,
      "width": null
     }
    },
    "2519066927834a25b55c9dfd7fd0756b": {
     "model_module": "@jupyter-widgets/controls",
     "model_module_version": "1.5.0",
     "model_name": "DescriptionStyleModel",
     "state": {
      "_model_module": "@jupyter-widgets/controls",
      "_model_module_version": "1.5.0",
      "_model_name": "DescriptionStyleModel",
      "_view_count": null,
      "_view_module": "@jupyter-widgets/base",
      "_view_module_version": "1.2.0",
      "_view_name": "StyleView",
      "description_width": ""
     }
    },
    "254fb7b6e0ef47348472618e6d04c1c7": {
     "model_module": "@jupyter-widgets/controls",
     "model_module_version": "1.5.0",
     "model_name": "HTMLModel",
     "state": {
      "_dom_classes": [],
      "_model_module": "@jupyter-widgets/controls",
      "_model_module_version": "1.5.0",
      "_model_name": "HTMLModel",
      "_view_count": null,
      "_view_module": "@jupyter-widgets/controls",
      "_view_module_version": "1.5.0",
      "_view_name": "HTMLView",
      "description": "",
      "description_tooltip": null,
      "layout": "IPY_MODEL_a5bbb12108174487bef4735ae58b5b02",
      "placeholder": "​",
      "style": "IPY_MODEL_87c52ce91d5b4ad097621786ddfb1cef",
      "value": " 1648877/1648877 [00:00&lt;00:00, 26368151.06it/s]"
     }
    },
    "2fdcba3ebbc54640b281526cf51dcc58": {
     "model_module": "@jupyter-widgets/base",
     "model_module_version": "1.2.0",
     "model_name": "LayoutModel",
     "state": {
      "_model_module": "@jupyter-widgets/base",
      "_model_module_version": "1.2.0",
      "_model_name": "LayoutModel",
      "_view_count": null,
      "_view_module": "@jupyter-widgets/base",
      "_view_module_version": "1.2.0",
      "_view_name": "LayoutView",
      "align_content": null,
      "align_items": null,
      "align_self": null,
      "border": null,
      "bottom": null,
      "display": null,
      "flex": null,
      "flex_flow": null,
      "grid_area": null,
      "grid_auto_columns": null,
      "grid_auto_flow": null,
      "grid_auto_rows": null,
      "grid_column": null,
      "grid_gap": null,
      "grid_row": null,
      "grid_template_areas": null,
      "grid_template_columns": null,
      "grid_template_rows": null,
      "height": null,
      "justify_content": null,
      "justify_items": null,
      "left": null,
      "margin": null,
      "max_height": null,
      "max_width": null,
      "min_height": null,
      "min_width": null,
      "object_fit": null,
      "object_position": null,
      "order": null,
      "overflow": null,
      "overflow_x": null,
      "overflow_y": null,
      "padding": null,
      "right": null,
      "top": null,
      "visibility": null,
      "width": null
     }
    },
    "38bffdf34e6c488fb0b084c8732b8d5f": {
     "model_module": "@jupyter-widgets/controls",
     "model_module_version": "1.5.0",
     "model_name": "FloatProgressModel",
     "state": {
      "_dom_classes": [],
      "_model_module": "@jupyter-widgets/controls",
      "_model_module_version": "1.5.0",
      "_model_name": "FloatProgressModel",
      "_view_count": null,
      "_view_module": "@jupyter-widgets/controls",
      "_view_module_version": "1.5.0",
      "_view_name": "ProgressView",
      "bar_style": "success",
      "description": "",
      "description_tooltip": null,
      "layout": "IPY_MODEL_114e55978bda4eaaab9147dc668f3693",
      "max": 1648877,
      "min": 0,
      "orientation": "horizontal",
      "style": "IPY_MODEL_c2fc806954cc477ca6544c99e4afbca6",
      "value": 1648877
     }
    },
    "391b864e85ea43238efff85ff78dd5bb": {
     "model_module": "@jupyter-widgets/controls",
     "model_module_version": "1.5.0",
     "model_name": "FloatProgressModel",
     "state": {
      "_dom_classes": [],
      "_model_module": "@jupyter-widgets/controls",
      "_model_module_version": "1.5.0",
      "_model_name": "FloatProgressModel",
      "_view_count": null,
      "_view_module": "@jupyter-widgets/controls",
      "_view_module_version": "1.5.0",
      "_view_name": "ProgressView",
      "bar_style": "success",
      "description": "",
      "description_tooltip": null,
      "layout": "IPY_MODEL_3be095dba6fc448684d7a37327b3cf59",
      "max": 4542,
      "min": 0,
      "orientation": "horizontal",
      "style": "IPY_MODEL_fb34eb5c3d3a4a43bd54fed6e40d30ad",
      "value": 4542
     }
    },
    "3982dbf8f233486499604fd85d7b15ed": {
     "model_module": "@jupyter-widgets/controls",
     "model_module_version": "1.5.0",
     "model_name": "DescriptionStyleModel",
     "state": {
      "_model_module": "@jupyter-widgets/controls",
      "_model_module_version": "1.5.0",
      "_model_name": "DescriptionStyleModel",
      "_view_count": null,
      "_view_module": "@jupyter-widgets/base",
      "_view_module_version": "1.2.0",
      "_view_name": "StyleView",
      "description_width": ""
     }
    },
    "3be095dba6fc448684d7a37327b3cf59": {
     "model_module": "@jupyter-widgets/base",
     "model_module_version": "1.2.0",
     "model_name": "LayoutModel",
     "state": {
      "_model_module": "@jupyter-widgets/base",
      "_model_module_version": "1.2.0",
      "_model_name": "LayoutModel",
      "_view_count": null,
      "_view_module": "@jupyter-widgets/base",
      "_view_module_version": "1.2.0",
      "_view_name": "LayoutView",
      "align_content": null,
      "align_items": null,
      "align_self": null,
      "border": null,
      "bottom": null,
      "display": null,
      "flex": null,
      "flex_flow": null,
      "grid_area": null,
      "grid_auto_columns": null,
      "grid_auto_flow": null,
      "grid_auto_rows": null,
      "grid_column": null,
      "grid_gap": null,
      "grid_row": null,
      "grid_template_areas": null,
      "grid_template_columns": null,
      "grid_template_rows": null,
      "height": null,
      "justify_content": null,
      "justify_items": null,
      "left": null,
      "margin": null,
      "max_height": null,
      "max_width": null,
      "min_height": null,
      "min_width": null,
      "object_fit": null,
      "object_position": null,
      "order": null,
      "overflow": null,
      "overflow_x": null,
      "overflow_y": null,
      "padding": null,
      "right": null,
      "top": null,
      "visibility": null,
      "width": null
     }
    },
    "4805dd7990314728b6f82875c9c7e860": {
     "model_module": "@jupyter-widgets/controls",
     "model_module_version": "1.5.0",
     "model_name": "HTMLModel",
     "state": {
      "_dom_classes": [],
      "_model_module": "@jupyter-widgets/controls",
      "_model_module_version": "1.5.0",
      "_model_name": "HTMLModel",
      "_view_count": null,
      "_view_module": "@jupyter-widgets/controls",
      "_view_module_version": "1.5.0",
      "_view_name": "HTMLView",
      "description": "",
      "description_tooltip": null,
      "layout": "IPY_MODEL_dcdfabb6d4dc42f6a3c0431a6e540124",
      "placeholder": "​",
      "style": "IPY_MODEL_97d3d9bff9dd4472b6d77d213c770d45",
      "value": "100%"
     }
    },
    "5135ce821c174fe5b8000ccf8d57c876": {
     "model_module": "@jupyter-widgets/base",
     "model_module_version": "1.2.0",
     "model_name": "LayoutModel",
     "state": {
      "_model_module": "@jupyter-widgets/base",
      "_model_module_version": "1.2.0",
      "_model_name": "LayoutModel",
      "_view_count": null,
      "_view_module": "@jupyter-widgets/base",
      "_view_module_version": "1.2.0",
      "_view_name": "LayoutView",
      "align_content": null,
      "align_items": null,
      "align_self": null,
      "border": null,
      "bottom": null,
      "display": null,
      "flex": null,
      "flex_flow": null,
      "grid_area": null,
      "grid_auto_columns": null,
      "grid_auto_flow": null,
      "grid_auto_rows": null,
      "grid_column": null,
      "grid_gap": null,
      "grid_row": null,
      "grid_template_areas": null,
      "grid_template_columns": null,
      "grid_template_rows": null,
      "height": null,
      "justify_content": null,
      "justify_items": null,
      "left": null,
      "margin": null,
      "max_height": null,
      "max_width": null,
      "min_height": null,
      "min_width": null,
      "object_fit": null,
      "object_position": null,
      "order": null,
      "overflow": null,
      "overflow_x": null,
      "overflow_y": null,
      "padding": null,
      "right": null,
      "top": null,
      "visibility": null,
      "width": null
     }
    },
    "5294469189d2497e9f1498f955df8283": {
     "model_module": "@jupyter-widgets/controls",
     "model_module_version": "1.5.0",
     "model_name": "FloatProgressModel",
     "state": {
      "_dom_classes": [],
      "_model_module": "@jupyter-widgets/controls",
      "_model_module_version": "1.5.0",
      "_model_name": "FloatProgressModel",
      "_view_count": null,
      "_view_module": "@jupyter-widgets/controls",
      "_view_module_version": "1.5.0",
      "_view_name": "ProgressView",
      "bar_style": "success",
      "description": "",
      "description_tooltip": null,
      "layout": "IPY_MODEL_6c6f5b8650434466ad699e6002a4cd25",
      "max": 9912422,
      "min": 0,
      "orientation": "horizontal",
      "style": "IPY_MODEL_03eb4758c3064b4880e4fae2f170fc6c",
      "value": 9912422
     }
    },
    "55a6164c0ad643e2bc6b2846554ec371": {
     "model_module": "@jupyter-widgets/controls",
     "model_module_version": "1.5.0",
     "model_name": "HTMLModel",
     "state": {
      "_dom_classes": [],
      "_model_module": "@jupyter-widgets/controls",
      "_model_module_version": "1.5.0",
      "_model_name": "HTMLModel",
      "_view_count": null,
      "_view_module": "@jupyter-widgets/controls",
      "_view_module_version": "1.5.0",
      "_view_name": "HTMLView",
      "description": "",
      "description_tooltip": null,
      "layout": "IPY_MODEL_bc4ba9f48b784420a13426521e03883c",
      "placeholder": "​",
      "style": "IPY_MODEL_59c2e2993cd145b38e2bf4baaad1e463",
      "value": "100%"
     }
    },
    "59c2e2993cd145b38e2bf4baaad1e463": {
     "model_module": "@jupyter-widgets/controls",
     "model_module_version": "1.5.0",
     "model_name": "DescriptionStyleModel",
     "state": {
      "_model_module": "@jupyter-widgets/controls",
      "_model_module_version": "1.5.0",
      "_model_name": "DescriptionStyleModel",
      "_view_count": null,
      "_view_module": "@jupyter-widgets/base",
      "_view_module_version": "1.2.0",
      "_view_name": "StyleView",
      "description_width": ""
     }
    },
    "6798000afdc248998f73a41336e9240c": {
     "model_module": "@jupyter-widgets/controls",
     "model_module_version": "1.5.0",
     "model_name": "HTMLModel",
     "state": {
      "_dom_classes": [],
      "_model_module": "@jupyter-widgets/controls",
      "_model_module_version": "1.5.0",
      "_model_name": "HTMLModel",
      "_view_count": null,
      "_view_module": "@jupyter-widgets/controls",
      "_view_module_version": "1.5.0",
      "_view_name": "HTMLView",
      "description": "",
      "description_tooltip": null,
      "layout": "IPY_MODEL_86b9bb59f8cd41a0a444894b622c6ee1",
      "placeholder": "​",
      "style": "IPY_MODEL_841c86b09ec14ef0915804fcbce0c353",
      "value": " 9912422/9912422 [00:00&lt;00:00, 77661333.82it/s]"
     }
    },
    "6a52ab6796e242d6a91cdaf0844fa56b": {
     "model_module": "@jupyter-widgets/controls",
     "model_module_version": "1.5.0",
     "model_name": "HTMLModel",
     "state": {
      "_dom_classes": [],
      "_model_module": "@jupyter-widgets/controls",
      "_model_module_version": "1.5.0",
      "_model_name": "HTMLModel",
      "_view_count": null,
      "_view_module": "@jupyter-widgets/controls",
      "_view_module_version": "1.5.0",
      "_view_name": "HTMLView",
      "description": "",
      "description_tooltip": null,
      "layout": "IPY_MODEL_e23b400085a44ba98c77784d3bb000d9",
      "placeholder": "​",
      "style": "IPY_MODEL_05b5c81e3edf41f0bc61785770f7ec31",
      "value": " 28881/28881 [00:00&lt;00:00, 581315.54it/s]"
     }
    },
    "6c6f5b8650434466ad699e6002a4cd25": {
     "model_module": "@jupyter-widgets/base",
     "model_module_version": "1.2.0",
     "model_name": "LayoutModel",
     "state": {
      "_model_module": "@jupyter-widgets/base",
      "_model_module_version": "1.2.0",
      "_model_name": "LayoutModel",
      "_view_count": null,
      "_view_module": "@jupyter-widgets/base",
      "_view_module_version": "1.2.0",
      "_view_name": "LayoutView",
      "align_content": null,
      "align_items": null,
      "align_self": null,
      "border": null,
      "bottom": null,
      "display": null,
      "flex": null,
      "flex_flow": null,
      "grid_area": null,
      "grid_auto_columns": null,
      "grid_auto_flow": null,
      "grid_auto_rows": null,
      "grid_column": null,
      "grid_gap": null,
      "grid_row": null,
      "grid_template_areas": null,
      "grid_template_columns": null,
      "grid_template_rows": null,
      "height": null,
      "justify_content": null,
      "justify_items": null,
      "left": null,
      "margin": null,
      "max_height": null,
      "max_width": null,
      "min_height": null,
      "min_width": null,
      "object_fit": null,
      "object_position": null,
      "order": null,
      "overflow": null,
      "overflow_x": null,
      "overflow_y": null,
      "padding": null,
      "right": null,
      "top": null,
      "visibility": null,
      "width": null
     }
    },
    "79250a7980ea4654b7bb020b5832b3cf": {
     "model_module": "@jupyter-widgets/controls",
     "model_module_version": "1.5.0",
     "model_name": "HBoxModel",
     "state": {
      "_dom_classes": [],
      "_model_module": "@jupyter-widgets/controls",
      "_model_module_version": "1.5.0",
      "_model_name": "HBoxModel",
      "_view_count": null,
      "_view_module": "@jupyter-widgets/controls",
      "_view_module_version": "1.5.0",
      "_view_name": "HBoxView",
      "box_style": "",
      "children": [
       "IPY_MODEL_55a6164c0ad643e2bc6b2846554ec371",
       "IPY_MODEL_38bffdf34e6c488fb0b084c8732b8d5f",
       "IPY_MODEL_254fb7b6e0ef47348472618e6d04c1c7"
      ],
      "layout": "IPY_MODEL_f97221048b334e098d079932895eb5ce"
     }
    },
    "7d0836b3f3fb4773b9dd5554b721cfeb": {
     "model_module": "@jupyter-widgets/controls",
     "model_module_version": "1.5.0",
     "model_name": "HTMLModel",
     "state": {
      "_dom_classes": [],
      "_model_module": "@jupyter-widgets/controls",
      "_model_module_version": "1.5.0",
      "_model_name": "HTMLModel",
      "_view_count": null,
      "_view_module": "@jupyter-widgets/controls",
      "_view_module_version": "1.5.0",
      "_view_name": "HTMLView",
      "description": "",
      "description_tooltip": null,
      "layout": "IPY_MODEL_2fdcba3ebbc54640b281526cf51dcc58",
      "placeholder": "​",
      "style": "IPY_MODEL_3982dbf8f233486499604fd85d7b15ed",
      "value": "100%"
     }
    },
    "841c86b09ec14ef0915804fcbce0c353": {
     "model_module": "@jupyter-widgets/controls",
     "model_module_version": "1.5.0",
     "model_name": "DescriptionStyleModel",
     "state": {
      "_model_module": "@jupyter-widgets/controls",
      "_model_module_version": "1.5.0",
      "_model_name": "DescriptionStyleModel",
      "_view_count": null,
      "_view_module": "@jupyter-widgets/base",
      "_view_module_version": "1.2.0",
      "_view_name": "StyleView",
      "description_width": ""
     }
    },
    "86909dfd1a29421ab5624777ed4cd846": {
     "model_module": "@jupyter-widgets/controls",
     "model_module_version": "1.5.0",
     "model_name": "HTMLModel",
     "state": {
      "_dom_classes": [],
      "_model_module": "@jupyter-widgets/controls",
      "_model_module_version": "1.5.0",
      "_model_name": "HTMLModel",
      "_view_count": null,
      "_view_module": "@jupyter-widgets/controls",
      "_view_module_version": "1.5.0",
      "_view_name": "HTMLView",
      "description": "",
      "description_tooltip": null,
      "layout": "IPY_MODEL_c8a50eaca885403db61c63362600b2ab",
      "placeholder": "​",
      "style": "IPY_MODEL_2519066927834a25b55c9dfd7fd0756b",
      "value": "100%"
     }
    },
    "86b9bb59f8cd41a0a444894b622c6ee1": {
     "model_module": "@jupyter-widgets/base",
     "model_module_version": "1.2.0",
     "model_name": "LayoutModel",
     "state": {
      "_model_module": "@jupyter-widgets/base",
      "_model_module_version": "1.2.0",
      "_model_name": "LayoutModel",
      "_view_count": null,
      "_view_module": "@jupyter-widgets/base",
      "_view_module_version": "1.2.0",
      "_view_name": "LayoutView",
      "align_content": null,
      "align_items": null,
      "align_self": null,
      "border": null,
      "bottom": null,
      "display": null,
      "flex": null,
      "flex_flow": null,
      "grid_area": null,
      "grid_auto_columns": null,
      "grid_auto_flow": null,
      "grid_auto_rows": null,
      "grid_column": null,
      "grid_gap": null,
      "grid_row": null,
      "grid_template_areas": null,
      "grid_template_columns": null,
      "grid_template_rows": null,
      "height": null,
      "justify_content": null,
      "justify_items": null,
      "left": null,
      "margin": null,
      "max_height": null,
      "max_width": null,
      "min_height": null,
      "min_width": null,
      "object_fit": null,
      "object_position": null,
      "order": null,
      "overflow": null,
      "overflow_x": null,
      "overflow_y": null,
      "padding": null,
      "right": null,
      "top": null,
      "visibility": null,
      "width": null
     }
    },
    "87c52ce91d5b4ad097621786ddfb1cef": {
     "model_module": "@jupyter-widgets/controls",
     "model_module_version": "1.5.0",
     "model_name": "DescriptionStyleModel",
     "state": {
      "_model_module": "@jupyter-widgets/controls",
      "_model_module_version": "1.5.0",
      "_model_name": "DescriptionStyleModel",
      "_view_count": null,
      "_view_module": "@jupyter-widgets/base",
      "_view_module_version": "1.2.0",
      "_view_name": "StyleView",
      "description_width": ""
     }
    },
    "8bf4c639b7c24764871c1f4900bbb6e1": {
     "model_module": "@jupyter-widgets/controls",
     "model_module_version": "1.5.0",
     "model_name": "ProgressStyleModel",
     "state": {
      "_model_module": "@jupyter-widgets/controls",
      "_model_module_version": "1.5.0",
      "_model_name": "ProgressStyleModel",
      "_view_count": null,
      "_view_module": "@jupyter-widgets/base",
      "_view_module_version": "1.2.0",
      "_view_name": "StyleView",
      "bar_color": null,
      "description_width": ""
     }
    },
    "95abc03412224b3e910f0528b0b12192": {
     "model_module": "@jupyter-widgets/base",
     "model_module_version": "1.2.0",
     "model_name": "LayoutModel",
     "state": {
      "_model_module": "@jupyter-widgets/base",
      "_model_module_version": "1.2.0",
      "_model_name": "LayoutModel",
      "_view_count": null,
      "_view_module": "@jupyter-widgets/base",
      "_view_module_version": "1.2.0",
      "_view_name": "LayoutView",
      "align_content": null,
      "align_items": null,
      "align_self": null,
      "border": null,
      "bottom": null,
      "display": null,
      "flex": null,
      "flex_flow": null,
      "grid_area": null,
      "grid_auto_columns": null,
      "grid_auto_flow": null,
      "grid_auto_rows": null,
      "grid_column": null,
      "grid_gap": null,
      "grid_row": null,
      "grid_template_areas": null,
      "grid_template_columns": null,
      "grid_template_rows": null,
      "height": null,
      "justify_content": null,
      "justify_items": null,
      "left": null,
      "margin": null,
      "max_height": null,
      "max_width": null,
      "min_height": null,
      "min_width": null,
      "object_fit": null,
      "object_position": null,
      "order": null,
      "overflow": null,
      "overflow_x": null,
      "overflow_y": null,
      "padding": null,
      "right": null,
      "top": null,
      "visibility": null,
      "width": null
     }
    },
    "9663d3283650456fa94451b496479ee1": {
     "model_module": "@jupyter-widgets/controls",
     "model_module_version": "1.5.0",
     "model_name": "FloatProgressModel",
     "state": {
      "_dom_classes": [],
      "_model_module": "@jupyter-widgets/controls",
      "_model_module_version": "1.5.0",
      "_model_name": "FloatProgressModel",
      "_view_count": null,
      "_view_module": "@jupyter-widgets/controls",
      "_view_module_version": "1.5.0",
      "_view_name": "ProgressView",
      "bar_style": "success",
      "description": "",
      "description_tooltip": null,
      "layout": "IPY_MODEL_5135ce821c174fe5b8000ccf8d57c876",
      "max": 28881,
      "min": 0,
      "orientation": "horizontal",
      "style": "IPY_MODEL_8bf4c639b7c24764871c1f4900bbb6e1",
      "value": 28881
     }
    },
    "97d3d9bff9dd4472b6d77d213c770d45": {
     "model_module": "@jupyter-widgets/controls",
     "model_module_version": "1.5.0",
     "model_name": "DescriptionStyleModel",
     "state": {
      "_model_module": "@jupyter-widgets/controls",
      "_model_module_version": "1.5.0",
      "_model_name": "DescriptionStyleModel",
      "_view_count": null,
      "_view_module": "@jupyter-widgets/base",
      "_view_module_version": "1.2.0",
      "_view_name": "StyleView",
      "description_width": ""
     }
    },
    "a5bbb12108174487bef4735ae58b5b02": {
     "model_module": "@jupyter-widgets/base",
     "model_module_version": "1.2.0",
     "model_name": "LayoutModel",
     "state": {
      "_model_module": "@jupyter-widgets/base",
      "_model_module_version": "1.2.0",
      "_model_name": "LayoutModel",
      "_view_count": null,
      "_view_module": "@jupyter-widgets/base",
      "_view_module_version": "1.2.0",
      "_view_name": "LayoutView",
      "align_content": null,
      "align_items": null,
      "align_self": null,
      "border": null,
      "bottom": null,
      "display": null,
      "flex": null,
      "flex_flow": null,
      "grid_area": null,
      "grid_auto_columns": null,
      "grid_auto_flow": null,
      "grid_auto_rows": null,
      "grid_column": null,
      "grid_gap": null,
      "grid_row": null,
      "grid_template_areas": null,
      "grid_template_columns": null,
      "grid_template_rows": null,
      "height": null,
      "justify_content": null,
      "justify_items": null,
      "left": null,
      "margin": null,
      "max_height": null,
      "max_width": null,
      "min_height": null,
      "min_width": null,
      "object_fit": null,
      "object_position": null,
      "order": null,
      "overflow": null,
      "overflow_x": null,
      "overflow_y": null,
      "padding": null,
      "right": null,
      "top": null,
      "visibility": null,
      "width": null
     }
    },
    "a6f118ca45d94c98abdc02229fc89fae": {
     "model_module": "@jupyter-widgets/controls",
     "model_module_version": "1.5.0",
     "model_name": "HBoxModel",
     "state": {
      "_dom_classes": [],
      "_model_module": "@jupyter-widgets/controls",
      "_model_module_version": "1.5.0",
      "_model_name": "HBoxModel",
      "_view_count": null,
      "_view_module": "@jupyter-widgets/controls",
      "_view_module_version": "1.5.0",
      "_view_name": "HBoxView",
      "box_style": "",
      "children": [
       "IPY_MODEL_4805dd7990314728b6f82875c9c7e860",
       "IPY_MODEL_391b864e85ea43238efff85ff78dd5bb",
       "IPY_MODEL_e70dea59676541028d84c47f12645cb0"
      ],
      "layout": "IPY_MODEL_06fe8d9a24214417a79cf3a99a302f04"
     }
    },
    "bc4ba9f48b784420a13426521e03883c": {
     "model_module": "@jupyter-widgets/base",
     "model_module_version": "1.2.0",
     "model_name": "LayoutModel",
     "state": {
      "_model_module": "@jupyter-widgets/base",
      "_model_module_version": "1.2.0",
      "_model_name": "LayoutModel",
      "_view_count": null,
      "_view_module": "@jupyter-widgets/base",
      "_view_module_version": "1.2.0",
      "_view_name": "LayoutView",
      "align_content": null,
      "align_items": null,
      "align_self": null,
      "border": null,
      "bottom": null,
      "display": null,
      "flex": null,
      "flex_flow": null,
      "grid_area": null,
      "grid_auto_columns": null,
      "grid_auto_flow": null,
      "grid_auto_rows": null,
      "grid_column": null,
      "grid_gap": null,
      "grid_row": null,
      "grid_template_areas": null,
      "grid_template_columns": null,
      "grid_template_rows": null,
      "height": null,
      "justify_content": null,
      "justify_items": null,
      "left": null,
      "margin": null,
      "max_height": null,
      "max_width": null,
      "min_height": null,
      "min_width": null,
      "object_fit": null,
      "object_position": null,
      "order": null,
      "overflow": null,
      "overflow_x": null,
      "overflow_y": null,
      "padding": null,
      "right": null,
      "top": null,
      "visibility": null,
      "width": null
     }
    },
    "c2fc806954cc477ca6544c99e4afbca6": {
     "model_module": "@jupyter-widgets/controls",
     "model_module_version": "1.5.0",
     "model_name": "ProgressStyleModel",
     "state": {
      "_model_module": "@jupyter-widgets/controls",
      "_model_module_version": "1.5.0",
      "_model_name": "ProgressStyleModel",
      "_view_count": null,
      "_view_module": "@jupyter-widgets/base",
      "_view_module_version": "1.2.0",
      "_view_name": "StyleView",
      "bar_color": null,
      "description_width": ""
     }
    },
    "c8a50eaca885403db61c63362600b2ab": {
     "model_module": "@jupyter-widgets/base",
     "model_module_version": "1.2.0",
     "model_name": "LayoutModel",
     "state": {
      "_model_module": "@jupyter-widgets/base",
      "_model_module_version": "1.2.0",
      "_model_name": "LayoutModel",
      "_view_count": null,
      "_view_module": "@jupyter-widgets/base",
      "_view_module_version": "1.2.0",
      "_view_name": "LayoutView",
      "align_content": null,
      "align_items": null,
      "align_self": null,
      "border": null,
      "bottom": null,
      "display": null,
      "flex": null,
      "flex_flow": null,
      "grid_area": null,
      "grid_auto_columns": null,
      "grid_auto_flow": null,
      "grid_auto_rows": null,
      "grid_column": null,
      "grid_gap": null,
      "grid_row": null,
      "grid_template_areas": null,
      "grid_template_columns": null,
      "grid_template_rows": null,
      "height": null,
      "justify_content": null,
      "justify_items": null,
      "left": null,
      "margin": null,
      "max_height": null,
      "max_width": null,
      "min_height": null,
      "min_width": null,
      "object_fit": null,
      "object_position": null,
      "order": null,
      "overflow": null,
      "overflow_x": null,
      "overflow_y": null,
      "padding": null,
      "right": null,
      "top": null,
      "visibility": null,
      "width": null
     }
    },
    "d3a14edb7b4447fcb88d22fb71ce3100": {
     "model_module": "@jupyter-widgets/controls",
     "model_module_version": "1.5.0",
     "model_name": "HBoxModel",
     "state": {
      "_dom_classes": [],
      "_model_module": "@jupyter-widgets/controls",
      "_model_module_version": "1.5.0",
      "_model_name": "HBoxModel",
      "_view_count": null,
      "_view_module": "@jupyter-widgets/controls",
      "_view_module_version": "1.5.0",
      "_view_name": "HBoxView",
      "box_style": "",
      "children": [
       "IPY_MODEL_86909dfd1a29421ab5624777ed4cd846",
       "IPY_MODEL_9663d3283650456fa94451b496479ee1",
       "IPY_MODEL_6a52ab6796e242d6a91cdaf0844fa56b"
      ],
      "layout": "IPY_MODEL_95abc03412224b3e910f0528b0b12192"
     }
    },
    "dcdfabb6d4dc42f6a3c0431a6e540124": {
     "model_module": "@jupyter-widgets/base",
     "model_module_version": "1.2.0",
     "model_name": "LayoutModel",
     "state": {
      "_model_module": "@jupyter-widgets/base",
      "_model_module_version": "1.2.0",
      "_model_name": "LayoutModel",
      "_view_count": null,
      "_view_module": "@jupyter-widgets/base",
      "_view_module_version": "1.2.0",
      "_view_name": "LayoutView",
      "align_content": null,
      "align_items": null,
      "align_self": null,
      "border": null,
      "bottom": null,
      "display": null,
      "flex": null,
      "flex_flow": null,
      "grid_area": null,
      "grid_auto_columns": null,
      "grid_auto_flow": null,
      "grid_auto_rows": null,
      "grid_column": null,
      "grid_gap": null,
      "grid_row": null,
      "grid_template_areas": null,
      "grid_template_columns": null,
      "grid_template_rows": null,
      "height": null,
      "justify_content": null,
      "justify_items": null,
      "left": null,
      "margin": null,
      "max_height": null,
      "max_width": null,
      "min_height": null,
      "min_width": null,
      "object_fit": null,
      "object_position": null,
      "order": null,
      "overflow": null,
      "overflow_x": null,
      "overflow_y": null,
      "padding": null,
      "right": null,
      "top": null,
      "visibility": null,
      "width": null
     }
    },
    "e23b400085a44ba98c77784d3bb000d9": {
     "model_module": "@jupyter-widgets/base",
     "model_module_version": "1.2.0",
     "model_name": "LayoutModel",
     "state": {
      "_model_module": "@jupyter-widgets/base",
      "_model_module_version": "1.2.0",
      "_model_name": "LayoutModel",
      "_view_count": null,
      "_view_module": "@jupyter-widgets/base",
      "_view_module_version": "1.2.0",
      "_view_name": "LayoutView",
      "align_content": null,
      "align_items": null,
      "align_self": null,
      "border": null,
      "bottom": null,
      "display": null,
      "flex": null,
      "flex_flow": null,
      "grid_area": null,
      "grid_auto_columns": null,
      "grid_auto_flow": null,
      "grid_auto_rows": null,
      "grid_column": null,
      "grid_gap": null,
      "grid_row": null,
      "grid_template_areas": null,
      "grid_template_columns": null,
      "grid_template_rows": null,
      "height": null,
      "justify_content": null,
      "justify_items": null,
      "left": null,
      "margin": null,
      "max_height": null,
      "max_width": null,
      "min_height": null,
      "min_width": null,
      "object_fit": null,
      "object_position": null,
      "order": null,
      "overflow": null,
      "overflow_x": null,
      "overflow_y": null,
      "padding": null,
      "right": null,
      "top": null,
      "visibility": null,
      "width": null
     }
    },
    "e70dea59676541028d84c47f12645cb0": {
     "model_module": "@jupyter-widgets/controls",
     "model_module_version": "1.5.0",
     "model_name": "HTMLModel",
     "state": {
      "_dom_classes": [],
      "_model_module": "@jupyter-widgets/controls",
      "_model_module_version": "1.5.0",
      "_model_name": "HTMLModel",
      "_view_count": null,
      "_view_module": "@jupyter-widgets/controls",
      "_view_module_version": "1.5.0",
      "_view_name": "HTMLView",
      "description": "",
      "description_tooltip": null,
      "layout": "IPY_MODEL_214d19da3a534590bab67acbe3e8ab58",
      "placeholder": "​",
      "style": "IPY_MODEL_fd2c67a899d444b792d9fe52b4cd861a",
      "value": " 4542/4542 [00:00&lt;00:00, 88821.52it/s]"
     }
    },
    "f97221048b334e098d079932895eb5ce": {
     "model_module": "@jupyter-widgets/base",
     "model_module_version": "1.2.0",
     "model_name": "LayoutModel",
     "state": {
      "_model_module": "@jupyter-widgets/base",
      "_model_module_version": "1.2.0",
      "_model_name": "LayoutModel",
      "_view_count": null,
      "_view_module": "@jupyter-widgets/base",
      "_view_module_version": "1.2.0",
      "_view_name": "LayoutView",
      "align_content": null,
      "align_items": null,
      "align_self": null,
      "border": null,
      "bottom": null,
      "display": null,
      "flex": null,
      "flex_flow": null,
      "grid_area": null,
      "grid_auto_columns": null,
      "grid_auto_flow": null,
      "grid_auto_rows": null,
      "grid_column": null,
      "grid_gap": null,
      "grid_row": null,
      "grid_template_areas": null,
      "grid_template_columns": null,
      "grid_template_rows": null,
      "height": null,
      "justify_content": null,
      "justify_items": null,
      "left": null,
      "margin": null,
      "max_height": null,
      "max_width": null,
      "min_height": null,
      "min_width": null,
      "object_fit": null,
      "object_position": null,
      "order": null,
      "overflow": null,
      "overflow_x": null,
      "overflow_y": null,
      "padding": null,
      "right": null,
      "top": null,
      "visibility": null,
      "width": null
     }
    },
    "fb34eb5c3d3a4a43bd54fed6e40d30ad": {
     "model_module": "@jupyter-widgets/controls",
     "model_module_version": "1.5.0",
     "model_name": "ProgressStyleModel",
     "state": {
      "_model_module": "@jupyter-widgets/controls",
      "_model_module_version": "1.5.0",
      "_model_name": "ProgressStyleModel",
      "_view_count": null,
      "_view_module": "@jupyter-widgets/base",
      "_view_module_version": "1.2.0",
      "_view_name": "StyleView",
      "bar_color": null,
      "description_width": ""
     }
    },
    "fd2c67a899d444b792d9fe52b4cd861a": {
     "model_module": "@jupyter-widgets/controls",
     "model_module_version": "1.5.0",
     "model_name": "DescriptionStyleModel",
     "state": {
      "_model_module": "@jupyter-widgets/controls",
      "_model_module_version": "1.5.0",
      "_model_name": "DescriptionStyleModel",
      "_view_count": null,
      "_view_module": "@jupyter-widgets/base",
      "_view_module_version": "1.2.0",
      "_view_name": "StyleView",
      "description_width": ""
     }
    },
    "fe219418128c4b49bdfc477ac3444d2b": {
     "model_module": "@jupyter-widgets/controls",
     "model_module_version": "1.5.0",
     "model_name": "HBoxModel",
     "state": {
      "_dom_classes": [],
      "_model_module": "@jupyter-widgets/controls",
      "_model_module_version": "1.5.0",
      "_model_name": "HBoxModel",
      "_view_count": null,
      "_view_module": "@jupyter-widgets/controls",
      "_view_module_version": "1.5.0",
      "_view_name": "HBoxView",
      "box_style": "",
      "children": [
       "IPY_MODEL_7d0836b3f3fb4773b9dd5554b721cfeb",
       "IPY_MODEL_5294469189d2497e9f1498f955df8283",
       "IPY_MODEL_6798000afdc248998f73a41336e9240c"
      ],
      "layout": "IPY_MODEL_127780424d894403a6a66e2683883612"
     }
    }
   }
  }
 },
 "nbformat": 4,
 "nbformat_minor": 4
}
